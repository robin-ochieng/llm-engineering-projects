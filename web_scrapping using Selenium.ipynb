{
 "cells": [
  {
   "cell_type": "code",
   "execution_count": 1,
   "id": "34bbd117",
   "metadata": {},
   "outputs": [],
   "source": [
    "# imports, loading the neccessary libraries\n",
    "\n",
    "import os\n",
    "import requests\n",
    "from dotenv import load_dotenv\n",
    "from bs4 import BeautifulSoup\n",
    "from IPython.display import Markdown, display\n",
    "from openai import OpenAI\n",
    "from selenium import webdriver\n",
    "from selenium.webdriver.chrome.service import Service\n",
    "from selenium.webdriver.chrome.options import Options\n",
    "from webdriver_manager.chrome import ChromeDriverManager\n",
    "from bs4 import BeautifulSoup\n",
    "import time\n",
    "\n",
    "# If you get an error running this cell, then please head over to the troubleshooting notebook!"
   ]
  },
  {
   "cell_type": "code",
   "execution_count": 2,
   "id": "37e1de2b",
   "metadata": {},
   "outputs": [
    {
     "name": "stdout",
     "output_type": "stream",
     "text": [
      "API key found and looks good so far!\n"
     ]
    }
   ],
   "source": [
    "# Load environment variables in a file called .env\n",
    "\n",
    "load_dotenv(override=True)\n",
    "api_key = os.getenv('OPENAI_API_KEY')\n",
    "\n",
    "# Check the key\n",
    "\n",
    "if not api_key:\n",
    "    print(\"No API key was found - please head over to the troubleshooting notebook in this folder to identify & fix!\")\n",
    "elif not api_key.startswith(\"sk-proj-\"):\n",
    "    print(\"An API key was found, but it doesn't start sk-proj-; please check you're using the right key - see troubleshooting notebook\")\n",
    "elif api_key.strip() != api_key:\n",
    "    print(\"An API key was found, but it looks like it might have space or tab characters at the start or end - please remove them - see troubleshooting notebook\")\n",
    "else:\n",
    "    print(\"API key found and looks good so far!\")\n"
   ]
  },
  {
   "cell_type": "code",
   "execution_count": 3,
   "id": "b0997116",
   "metadata": {},
   "outputs": [],
   "source": [
    "openai = OpenAI()\n",
    "\n",
    "# If this doesn't work, try Kernel menu >> Restart Kernel and Clear Outputs Of All Cells, then run the cells from the top of this notebook down.\n",
    "# If it STILL doesn't work (horrors!) then please see the Troubleshooting notebook in this folder for full instructions"
   ]
  },
  {
   "cell_type": "code",
   "execution_count": 4,
   "id": "239717c7",
   "metadata": {},
   "outputs": [
    {
     "name": "stdout",
     "output_type": "stream",
     "text": [
      "Why do programmers prefer dark mode?\n",
      "\n",
      "Because light attracts bugs!\n"
     ]
    }
   ],
   "source": [
    "# To give you a preview -- calling OpenAI with these messages is this easy. Any problems, head over to the Troubleshooting notebook.\n",
    "\n",
    "message = \"Tell me a joke about a programmer\"\n",
    "response = openai.chat.completions.create(model=\"gpt-4o-mini\", messages=[{\"role\":\"user\", \"content\":message}])\n",
    "print(response.choices[0].message.content)"
   ]
  },
  {
   "cell_type": "code",
   "execution_count": 5,
   "id": "0749d225",
   "metadata": {},
   "outputs": [
    {
     "name": "stdout",
     "output_type": "stream",
     "text": [
      "IFRS 17 Quest and Conquer\n",
      "You need to enable JavaScript to run this app.\n",
      "G\n",
      "Guest User\n",
      "Evaluating IFRS 17\n",
      "Sign In\n",
      "Sign Up\n",
      "IFRS 17 Quest and Concur: Regulatory Training Game\n",
      "Score\n",
      "0\n",
      "Streak\n",
      "0\n",
      "Level 1\n",
      "Combo\n",
      "x1\n",
      "View Leaderboard\n",
      "IFRS 17 Training Modules\n",
      "(0/10 completed)\n",
      "📚\n",
      "IFRS 17 Fundamentals\n",
      "In Progress\n",
      "🎯\n",
      "Combination & Separation of Insurance Contracts\n",
      "Sign up to unlock\n",
      "📊\n",
      "Level of Aggregation\n",
      "Sign up to unlock\n",
      "📏\n",
      "Recognition of Insurance Contracts\n",
      "Sign up to unlock\n",
      "🔒\n",
      "Measurement on Initial Recognition\n",
      "Sign up to unlock\n",
      "🚀\n",
      "Subse\n"
     ]
    }
   ],
   "source": [
    "# Define a class to represent a website\n",
    "class Website:\n",
    "    def __init__(self, url):\n",
    "        \"\"\"\n",
    "        Create this Website object from the given url using Selenium and BeautifulSoup\n",
    "        \"\"\"\n",
    "        self.url = url\n",
    "        \n",
    "        # Set up Chrome options\n",
    "        chrome_options = Options()\n",
    "        chrome_options.add_argument(\"--headless\")  # Run in background\n",
    "        chrome_options.add_argument(\"--no-sandbox\")\n",
    "        chrome_options.add_argument(\"--disable-dev-shm-usage\")\n",
    "        chrome_options.add_argument(\"--user-agent=Mozilla/5.0 (Windows NT 10.0; Win64; x64) AppleWebKit/537.36\")\n",
    "        \n",
    "        # Initialize the driver\n",
    "        service = Service(ChromeDriverManager().install())\n",
    "        driver = webdriver.Chrome(service=service, options=chrome_options)\n",
    "        \n",
    "        try:\n",
    "            # Navigate to the URL\n",
    "            driver.get(url)\n",
    "            \n",
    "            # Wait for the page to load (adjust time as needed)\n",
    "            time.sleep(5)\n",
    "            \n",
    "            # Get the page source after JavaScript execution\n",
    "            html_content = driver.page_source\n",
    "            \n",
    "            # Parse with BeautifulSoup\n",
    "            soup = BeautifulSoup(html_content, 'html.parser')\n",
    "            \n",
    "            self.title = soup.title.string if soup.title else \"No title found\"\n",
    "            \n",
    "            # Remove irrelevant elements\n",
    "            for irrelevant in soup.body([\"script\", \"style\", \"img\", \"input\"]):\n",
    "                irrelevant.decompose()\n",
    "            \n",
    "            self.text = soup.body.get_text(separator=\"\\n\", strip=True)\n",
    "            \n",
    "        finally:\n",
    "            # Always close the driver\n",
    "            driver.quit()\n",
    "\n",
    "# Test it out\n",
    "ed = Website(\"https://www.ifrs17game.com/\")\n",
    "print(ed.title)\n",
    "print(ed.text[:500])  # Print first 500 characters"
   ]
  },
  {
   "cell_type": "code",
   "execution_count": 6,
   "id": "f0ab463e",
   "metadata": {},
   "outputs": [],
   "source": [
    "# Define a system prompt for the assistant\n",
    "system_prompt = \"You are an assistant that analyzes the contents of a website \\\n",
    "and provides a short summary, ignoring text that might be navigation related. \\\n",
    "Respond in markdown.\""
   ]
  },
  {
   "cell_type": "code",
   "execution_count": 7,
   "id": "f0dfcbbd",
   "metadata": {},
   "outputs": [],
   "source": [
    "# A function that writes a User Prompt that asks for summaries of websites:\n",
    "\n",
    "def user_prompt_for(website):\n",
    "    user_prompt = f\"You are looking at a website titled {website.title}\"\n",
    "    user_prompt += \"\\nThe contents of this website is as follows; \\\n",
    "please provide a short summary of this website in markdown. \\\n",
    "If it includes news or announcements, then summarize these too.\\n\\n\"\n",
    "    user_prompt += website.text\n",
    "    return user_prompt"
   ]
  },
  {
   "cell_type": "code",
   "execution_count": 8,
   "id": "3173018d",
   "metadata": {},
   "outputs": [
    {
     "name": "stdout",
     "output_type": "stream",
     "text": [
      "You are looking at a website titled IFRS 17 Quest and Conquer\n",
      "The contents of this website is as follows; please provide a short summary of this website in markdown. If it includes news or announcements, then summarize these too.\n",
      "\n",
      "You need to enable JavaScript to run this app.\n",
      "G\n",
      "Guest User\n",
      "Evaluating IFRS 17\n",
      "Sign In\n",
      "Sign Up\n",
      "IFRS 17 Quest and Concur: Regulatory Training Game\n",
      "Score\n",
      "0\n",
      "Streak\n",
      "0\n",
      "Level 1\n",
      "Combo\n",
      "x1\n",
      "View Leaderboard\n",
      "IFRS 17 Training Modules\n",
      "(0/10 completed)\n",
      "📚\n",
      "IFRS 17 Fundamentals\n",
      "In Progress\n",
      "🎯\n",
      "Combination & Separation of Insurance Contracts\n",
      "Sign up to unlock\n",
      "📊\n",
      "Level of Aggregation\n",
      "Sign up to unlock\n",
      "📏\n",
      "Recognition of Insurance Contracts\n",
      "Sign up to unlock\n",
      "🔒\n",
      "Measurement on Initial Recognition\n",
      "Sign up to unlock\n",
      "🚀\n",
      "Subsequent Measurement\n",
      "Sign up to unlock\n",
      "🔄\n",
      "Discounting CSM and Risk Adjustment\n",
      "Sign up to unlock\n",
      "⚠️\n",
      "Onerous Contracts\n",
      "Sign up to unlock\n",
      "📋\n",
      "Premium Allocation Approach\n",
      "Sign up to unlock\n",
      "🔀\n",
      "Reinsurance Contracts Held\n",
      "Sign up to unlock\n",
      "IFRS 17 Fundamentals - Question 1/10\n",
      "0:00\n",
      "(starts on first answer)\n",
      "⏭️2\n",
      "Skip\n",
      "Skip this question and move to the next\n",
      "2 remaining\n",
      "What was the official date of initial application for IFRS 17?\n",
      "1st January 2022\n",
      "31st December 2022\n",
      "1st January 2023\n",
      "1st January 2021\n",
      "⚠️ Reset All Progress\n",
      "Developed for\n",
      "Powered by Kenbright AI\n",
      "© 2025 Kenbright. All rights reserved.\n",
      "Version 3.0.0 | IFRS 17 Training Platform\n"
     ]
    }
   ],
   "source": [
    "print(user_prompt_for(ed))"
   ]
  },
  {
   "cell_type": "markdown",
   "id": "cac7ae7c",
   "metadata": {},
   "source": [
    "## Messages\n",
    "\n",
    "The API from OpenAI expects to receive messages in a particular structure.\n",
    "Many of the other APIs share this structure:\n",
    "\n",
    "```python\n",
    "[\n",
    "    {\"role\": \"system\", \"content\": \"system message goes here\"},\n",
    "    {\"role\": \"user\", \"content\": \"user message goes here\"}\n",
    "]\n",
    "```\n",
    "To give you a preview, the next 2 cells make a rather simple call - we won't stretch the mighty GPT (yet!)"
   ]
  },
  {
   "cell_type": "code",
   "execution_count": 9,
   "id": "13699af5",
   "metadata": {},
   "outputs": [],
   "source": [
    "messages = [\n",
    "    {\"role\": \"system\", \"content\": \"You are an assistant that analyzes the contents of a website and provides a short summary, ignoring text that might be navigation related. Respond in markdown.\"},\n",
    "    {\"role\": \"user\", \"content\": \"You are looking at a website titled {website.title}. The contents of this website is as follows; please provide a short summary of this website in markdown. If it includes news or announcements, then summarize these too.\"}\n",
    "]"
   ]
  },
  {
   "cell_type": "code",
   "execution_count": 10,
   "id": "c9ebbd2e",
   "metadata": {},
   "outputs": [
    {
     "name": "stdout",
     "output_type": "stream",
     "text": [
      "Please provide the content of the website, and I will summarize it for you.\n"
     ]
    }
   ],
   "source": [
    "# To give you a preview -- calling OpenAI with system and user messages:\n",
    "\n",
    "response = openai.chat.completions.create(model=\"gpt-4o-mini\", messages=messages)\n",
    "print(response.choices[0].message.content)"
   ]
  },
  {
   "cell_type": "code",
   "execution_count": 11,
   "id": "940d6056",
   "metadata": {},
   "outputs": [],
   "source": [
    "# See how this function creates exactly the format above\n",
    "\n",
    "def messages_for(website):\n",
    "    return [\n",
    "        {\"role\": \"system\", \"content\": system_prompt},\n",
    "        {\"role\": \"user\", \"content\": user_prompt_for(website)}\n",
    "    ]"
   ]
  },
  {
   "cell_type": "code",
   "execution_count": 12,
   "id": "6557c423",
   "metadata": {},
   "outputs": [
    {
     "data": {
      "text/plain": [
       "[{'role': 'system',\n",
       "  'content': 'You are an assistant that analyzes the contents of a website and provides a short summary, ignoring text that might be navigation related. Respond in markdown.'},\n",
       " {'role': 'user',\n",
       "  'content': 'You are looking at a website titled IFRS 17 Quest and Conquer\\nThe contents of this website is as follows; please provide a short summary of this website in markdown. If it includes news or announcements, then summarize these too.\\n\\nYou need to enable JavaScript to run this app.\\nG\\nGuest User\\nEvaluating IFRS 17\\nSign In\\nSign Up\\nIFRS 17 Quest and Concur: Regulatory Training Game\\nScore\\n0\\nStreak\\n0\\nLevel 1\\nCombo\\nx1\\nView Leaderboard\\nIFRS 17 Training Modules\\n(0/10 completed)\\n📚\\nIFRS 17 Fundamentals\\nIn Progress\\n🎯\\nCombination & Separation of Insurance Contracts\\nSign up to unlock\\n📊\\nLevel of Aggregation\\nSign up to unlock\\n📏\\nRecognition of Insurance Contracts\\nSign up to unlock\\n🔒\\nMeasurement on Initial Recognition\\nSign up to unlock\\n🚀\\nSubsequent Measurement\\nSign up to unlock\\n🔄\\nDiscounting CSM and Risk Adjustment\\nSign up to unlock\\n⚠️\\nOnerous Contracts\\nSign up to unlock\\n📋\\nPremium Allocation Approach\\nSign up to unlock\\n🔀\\nReinsurance Contracts Held\\nSign up to unlock\\nIFRS 17 Fundamentals - Question 1/10\\n0:00\\n(starts on first answer)\\n⏭️2\\nSkip\\nSkip this question and move to the next\\n2 remaining\\nWhat was the official date of initial application for IFRS 17?\\n1st January 2022\\n31st December 2022\\n1st January 2023\\n1st January 2021\\n⚠️ Reset All Progress\\nDeveloped for\\nPowered by Kenbright AI\\n© 2025 Kenbright. All rights reserved.\\nVersion 3.0.0 | IFRS 17 Training Platform'}]"
      ]
     },
     "execution_count": 12,
     "metadata": {},
     "output_type": "execute_result"
    }
   ],
   "source": [
    "# Try this out, and then try for a few more websites\n",
    "\n",
    "messages_for(ed)"
   ]
  },
  {
   "cell_type": "code",
   "execution_count": 13,
   "id": "41f314d2",
   "metadata": {},
   "outputs": [],
   "source": [
    "# And now: call the OpenAI API. You will get very familiar with this!\n",
    "\n",
    "def summarize(url):\n",
    "    website = Website(url)\n",
    "    response = openai.chat.completions.create(\n",
    "        model = \"gpt-4o-mini\",\n",
    "        messages = messages_for(website)\n",
    "    )\n",
    "    return response.choices[0].message.content"
   ]
  },
  {
   "cell_type": "code",
   "execution_count": 15,
   "id": "4194bc01",
   "metadata": {},
   "outputs": [
    {
     "data": {
      "text/plain": [
       "'# Summary of IFRS 17 Quest and Conquer\\n\\nThe website **IFRS 17 Quest and Conquer** is an interactive training platform focused on educating users about IFRS 17, the international financial reporting standard for insurance contracts. The site features a training game designed to help users learn the fundamentals and complexities of IFRS 17 through various levels and modules.\\n\\n### Key Features\\n- **Training Modules**: The platform includes modules on topics like the combination and separation of insurance contracts, level of aggregation, recognition and measurement of insurance contracts, and more. However, most modules require the user to sign up to access.\\n- **Interactive Learning**: Users can track their progress with scores, streaks, and completions of modules. Currently, users can see their performance in terms of completed training modules.\\n- **Questionnaire**: There’s a quiz section to test knowledge on IFRS 17 basics, like what IFRS 17 replaces.\\n\\n### Notes\\n- The site is powered by **Kenbright AI** and is positioned as a fun and engaging way to learn about regulatory requirements associated with IFRS 17.\\n- The platform features user engagement options, including a leaderboard for competitive learning.\\n\\nOverall, IFRS 17 Quest and Conquer serves as an educational tool for professionals seeking to deepen their understanding of IFRS 17 in a gamified environment.'"
      ]
     },
     "execution_count": 15,
     "metadata": {},
     "output_type": "execute_result"
    }
   ],
   "source": [
    "summarize(\"https://www.ifrs17game.com/\")"
   ]
  },
  {
   "cell_type": "code",
   "execution_count": 16,
   "id": "e4d35872",
   "metadata": {},
   "outputs": [],
   "source": [
    "# A function to display this nicely in the Jupyter output, using markdown\n",
    "\n",
    "def display_summary(url):\n",
    "    summary = summarize(url)\n",
    "    display(Markdown(summary))"
   ]
  },
  {
   "cell_type": "code",
   "execution_count": 17,
   "id": "9df9216c",
   "metadata": {},
   "outputs": [
    {
     "data": {
      "text/markdown": [
       "# Summary of IFRS 17 Quest and Conquer\n",
       "\n",
       "**Website Overview:**\n",
       "The \"IFRS 17 Quest and Conquer\" website serves as an interactive training platform focused on the IFRS 17 standards related to insurance contracts. It offers a game-like experience for users to learn key concepts and test their knowledge through various training modules.\n",
       "\n",
       "**Training Modules Available:**\n",
       "- **IFRS 17 Fundamentals** - Currently in progress.\n",
       "- Other modules include topics such as:\n",
       "  - Combination & Separation of Insurance Contracts (locked)\n",
       "  - Level of Aggregation (locked)\n",
       "  - Recognition of Insurance Contracts (locked)\n",
       "  - Measurement on Initial Recognition (locked)\n",
       "  - Subsequent Measurement (locked)\n",
       "  - Discounting CSM and Risk Adjustment (locked)\n",
       "  - Onerous Contracts (locked)\n",
       "  - Premium Allocation Approach (locked)\n",
       "  - Reinsurance Contracts Held (locked)\n",
       "\n",
       "**User Engagement:**\n",
       "The platform tracks user progress, including scores, streaks, and levels of completion for the training modules.\n",
       "\n",
       "**Content Interaction:**\n",
       "Users can participate in quizzes (e.g., a question about contract exclusions from IFRS 17) that enhance learning and test understanding in a gamified way.\n",
       "\n",
       "**Additional Information:**\n",
       "The platform is powered by Kenbright AI, indicating a modern and AI-driven approach to regulatory training."
      ],
      "text/plain": [
       "<IPython.core.display.Markdown object>"
      ]
     },
     "metadata": {},
     "output_type": "display_data"
    }
   ],
   "source": [
    "display_summary(\"https://www.ifrs17game.com/\")"
   ]
  }
 ],
 "metadata": {
  "kernelspec": {
   "display_name": "venv (3.11.4)",
   "language": "python",
   "name": "python3"
  },
  "language_info": {
   "codemirror_mode": {
    "name": "ipython",
    "version": 3
   },
   "file_extension": ".py",
   "mimetype": "text/x-python",
   "name": "python",
   "nbconvert_exporter": "python",
   "pygments_lexer": "ipython3",
   "version": "3.13.7"
  }
 },
 "nbformat": 4,
 "nbformat_minor": 5
}
